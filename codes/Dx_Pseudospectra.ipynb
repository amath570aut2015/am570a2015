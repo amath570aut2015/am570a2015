{
 "cells": [
  {
   "cell_type": "markdown",
   "metadata": {},
   "source": [
    "# Pseudospectra of the first derivative"
   ]
  },
  {
   "cell_type": "markdown",
   "metadata": {},
   "source": [
    "Illustration of the spectra and pseudospectra of the first derivative operator and the Chebyshev differentiation matrix on the interval $[-1,1]$, with no boundary conditions and with a boundary condition.\n",
    "\n",
    "Running this notebook requires Jupyter notebooks with the [matlab_kernel](https://pypi.python.org/pypi/matlab_kernel) installed, Matlab, and the Matlab package [chebfun](http://www.chebfun.org/).\n",
    "\n",
    "Developed by Randy LeVeque for a course on Approximation Theory and Spectral Methods at the University of Washington.  See <http://faculty.washington.edu/rjl/classes/am570a2015/codes.html> for more Jupyter Notebook examples.\n"
   ]
  },
  {
   "cell_type": "code",
   "execution_count": 1,
   "metadata": {
    "collapsed": false
   },
   "outputs": [
    {
     "data": {},
     "execution_count": 1,
     "metadata": {},
     "output_type": "execute_result"
    }
   ],
   "source": [
    "path(path,'/Users/rjl/git/chebfun')   # modify this for your local system"
   ]
  },
  {
   "cell_type": "markdown",
   "metadata": {},
   "source": [
    "## No boundary conditions\n",
    "\n",
    "The first derivative operator $\\partial_x$ on $[-1,1]$ with no boundary condition imposed has as its spectrum the entire complex plane, since for any $z$ there is an eigenfunction $e^{zx}$ with eigenvalue $z$."
   ]
  },
  {
   "cell_type": "markdown",
   "metadata": {},
   "source": [
    "Now consider the square Chebyshev differentiation matrix $D$ with no boundary conditions imposed.  This matrix maps values of $u(x_j)$ at $N$ Chebyshev points to the approximation to the derivative $u_x(x_j)$ at these same points. The values $U_0$ and $U_N$ can be arbitrary.\n",
    "\n",
    "Recall that if we apply $D^2$ to a vector we get approximations to the second derivative that correspond to $p''(x_j)$, where $p$ is the polynomial of degree $N$ that interpolates the $U_j$ values.  Similarly if we apply $D^{N+1}$ we get values of the $(N+1)$st derivative of the polynomial, but $p^{(N+1)}(x) \\equiv 0$, so $D^{N+1}$ is the zero matrix. Hence $D$ is nilpotent and all eigenvalues are equal to 0.\n",
    "\n",
    "Since $D$ is highly non-normal, if we compute the eigenvalues numerically we get nonzero values because of rounding errors..."
   ]
  },
  {
   "cell_type": "markdown",
   "metadata": {},
   "source": [
    "## Set up the matrix and investigate eigenvalues:"
   ]
  },
  {
   "cell_type": "code",
   "execution_count": 2,
   "metadata": {
    "collapsed": false
   },
   "outputs": [
    {
     "data": {
      "image/png": "[encoded data removed]",
      "text/plain": [
       "<IPython.core.display.Image object>"
      ]
     },
     "metadata": {},
     "output_type": "display_data"
    },
    {
     "data": {},
     "execution_count": 2,
     "metadata": {},
     "output_type": "execute_result"
    }
   ],
   "source": [
    "N = 24;\n",
    "Dop = chebop(@(u) diff(u));\n",
    "D = matrix(Dop,N, 'oldschool');\n",
    "\n",
    "[V,Lam] = eig(D);\n",
    "Lam = diag(Lam);\n",
    "Lmax = max(abs(Lam));\n",
    "\n",
    "plot(real(Lam),imag(Lam),'r.')\n",
    "axis([-Lmax,Lmax,-Lmax,Lmax])\n",
    "axis 'square'"
   ]
  },
  {
   "cell_type": "markdown",
   "metadata": {},
   "source": [
    "We can compute the pseudo-spectrum $\\sigma_\\epsilon(D)$ by first computing the minimum singular value of $(zI-D)$ on a fine grid of points and then plotting the $\\epsilon$ contour of this function..."
   ]
  },
  {
   "cell_type": "code",
   "execution_count": 3,
   "metadata": {
    "collapsed": false
   },
   "outputs": [
    {
     "data": {},
     "execution_count": 3,
     "metadata": {},
     "output_type": "execute_result"
    }
   ],
   "source": [
    "xylim = 50;\n",
    "x1 = linspace(-xylim,xylim,200);\n",
    "y1 = linspace(-xylim,xylim,200);\n",
    "[xx,yy] = meshgrid(x1,y1);\n",
    "zz = xx + 1i*yy;\n",
    "I = eye(size(D,1));\n",
    "sigmin = zeros(size(zz));\n",
    "for j=1:length(x1)\n",
    "    for i=1:length(y1)\n",
    "        sigmin(i,j) = min(svd(zz(i,j)*I - D));\n",
    "        end\n",
    "    end"
   ]
  },
  {
   "cell_type": "code",
   "execution_count": 4,
   "metadata": {
    "collapsed": false
   },
   "outputs": [
    {
     "data": {
      "image/png": "[encoded data removed]",
      "text/plain": [
       "<IPython.core.display.Image object>"
      ]
     },
     "metadata": {},
     "output_type": "display_data"
    },
    {
     "data": {},
     "execution_count": 4,
     "metadata": {},
     "output_type": "execute_result"
    }
   ],
   "source": [
    "plot(real(Lam),imag(Lam),'r.')\n",
    "hold on\n",
    "contour(xx,yy,sigmin,[1e-2,1e-3,1e-4],'b')\n",
    "contour(xx,yy,sigmin,[1e-5,1e-6,1e-7],'k')\n",
    "contour(xx,yy,sigmin,[1e-8,1e-10,1e-12, 1e-14],'g')\n",
    "axis square"
   ]
  },
  {
   "cell_type": "markdown",
   "metadata": {},
   "source": [
    "Note that the computed eigenvalues lie within the $\\epsilon = 10^{-14}$ pseduo-spectrum. "
   ]
  },
  {
   "cell_type": "markdown",
   "metadata": {},
   "source": [
    "### Finer grid\n",
    "\n",
    "If we make the grid finer we get a better approximation to $\\partial_x$.  The larger $D$ matrix is still nilpotent, but the pseudospectra move out to cover more of the complex plane:"
   ]
  },
  {
   "cell_type": "code",
   "execution_count": 5,
   "metadata": {
    "collapsed": false
   },
   "outputs": [
    {
     "data": {
      "image/png": "[encoded data removed]",
      "text/plain": [
       "<IPython.core.display.Image object>"
      ]
     },
     "metadata": {},
     "output_type": "display_data"
    },
    {
     "data": {},
     "execution_count": 5,
     "metadata": {},
     "output_type": "execute_result"
    }
   ],
   "source": [
    "N = 48;\n",
    "Dop = chebop(@(u) diff(u));\n",
    "D = matrix(Dop,N, 'oldschool');\n",
    "[V,Lam] = eig(D);\n",
    "Lam = diag(Lam);\n",
    "\n",
    "xylim = 50;\n",
    "x1 = linspace(-xylim,xylim,200);\n",
    "y1 = linspace(-xylim,xylim,200);\n",
    "[xx,yy] = meshgrid(x1,y1);\n",
    "zz = xx + 1i*yy;\n",
    "I = eye(size(D,1));\n",
    "sigmin = zeros(size(zz));\n",
    "for j=1:length(x1)\n",
    "    for i=1:length(y1)\n",
    "        sigmin(i,j) = min(svd(zz(i,j)*I - D));\n",
    "        end\n",
    "    end\n",
    "    \n",
    "plot(real(Lam),imag(Lam),'r.')\n",
    "hold on\n",
    "contour(xx,yy,sigmin,[1e-2,1e-3,1e-4],'b')\n",
    "contour(xx,yy,sigmin,[1e-5,1e-6,1e-7],'k')\n",
    "contour(xx,yy,sigmin,[1e-8,1e-10,1e-12],'g')\n",
    "axis square"
   ]
  },
  {
   "cell_type": "markdown",
   "metadata": {},
   "source": [
    "### Adding a boundary condition\n",
    "\n",
    "Now consider the differential operator $\\partial_x$ on $[-1,1]$ with the boundary condition $u(1) = 0$.  This is the operator we will want to discretize to solve the advection equation $u_t = u_x$, whose solution advects to the left.\n",
    "\n",
    "We obtain the Chebyshev approximation by computing the square $N\\times N$ matrix as above but then dropping the last row and column.  Dropping the last column corresponds to assuming $U_N=0$. "
   ]
  },
  {
   "cell_type": "code",
   "execution_count": 13,
   "metadata": {
    "collapsed": false
   },
   "outputs": [
    {
     "data": {
      "text/plain": [
       "Lmax =\n",
       "  47.709852102845140"
      ]
     },
     "execution_count": 13,
     "metadata": {},
     "output_type": "execute_result"
    }
   ],
   "source": [
    "N = 24;\n",
    "Dop = chebop(@(u) diff(u));\n",
    "D = matrix(Dop,N, 'oldschool');\n",
    "D = D(1:N-1, 1:N-1);\n",
    "\n",
    "[V,Lam] = eig(D);\n",
    "Lam = diag(Lam);\n",
    "Lmax = max(abs(Lam))"
   ]
  },
  {
   "cell_type": "code",
   "execution_count": 14,
   "metadata": {
    "collapsed": false
   },
   "outputs": [
    {
     "data": {},
     "execution_count": 14,
     "metadata": {},
     "output_type": "execute_result"
    }
   ],
   "source": [
    "xylim = 50;\n",
    "x1 = linspace(-xylim,xylim,200);\n",
    "y1 = linspace(-xylim,xylim,200);\n",
    "[xx,yy] = meshgrid(x1,y1);\n",
    "zz = xx + 1i*yy;\n",
    "I = eye(size(D,1));\n",
    "sigmin = zeros(size(zz));\n",
    "for j=1:length(x1)\n",
    "    for i=1:length(y1)\n",
    "        sigmin(i,j) = min(svd(zz(i,j)*I - D));\n",
    "        end\n",
    "    end"
   ]
  },
  {
   "cell_type": "code",
   "execution_count": 15,
   "metadata": {
    "collapsed": false
   },
   "outputs": [
    {
     "data": {
      "image/png": "[encoded data removed]",
      "text/plain": [
       "<IPython.core.display.Image object>"
      ]
     },
     "metadata": {},
     "output_type": "display_data"
    },
    {
     "data": {},
     "execution_count": 15,
     "metadata": {},
     "output_type": "execute_result"
    }
   ],
   "source": [
    "plot(real(Lam),imag(Lam),'r.')\n",
    "hold on\n",
    "contour(xx,yy,sigmin,[1e-2,1e-3,1e-4],'b')\n",
    "contour(xx,yy,sigmin,[1e-5,1e-6,1e-7],'k')\n",
    "contour(xx,yy,sigmin,[1e-8,1e-10,1e-12],'g')\n",
    "axis square"
   ]
  },
  {
   "cell_type": "markdown",
   "metadata": {},
   "source": [
    "### Finer grid:"
   ]
  },
  {
   "cell_type": "code",
   "execution_count": 17,
   "metadata": {
    "collapsed": false
   },
   "outputs": [
    {
     "data": {
      "text/plain": [
       "Lmax =\n",
       "  85.976853327079667"
      ]
     },
     "execution_count": 17,
     "metadata": {},
     "output_type": "execute_result"
    }
   ],
   "source": [
    "N = 32;\n",
    "Dop = chebop(@(u) diff(u));\n",
    "D = matrix(Dop,N, 'oldschool');\n",
    "D = D(1:N-1, 1:N-1);\n",
    "[V,Lam] = eig(D);\n",
    "Lam = diag(Lam);\n",
    "Lmax = max(abs(Lam))"
   ]
  },
  {
   "cell_type": "code",
   "execution_count": 10,
   "metadata": {
    "collapsed": false
   },
   "outputs": [
    {
     "data": {},
     "execution_count": 10,
     "metadata": {},
     "output_type": "execute_result"
    }
   ],
   "source": [
    "xylim = 50;\n",
    "x1 = linspace(-xylim,xylim,200);\n",
    "y1 = linspace(-xylim,xylim,200);\n",
    "[xx,yy] = meshgrid(x1,y1);\n",
    "zz = xx + 1i*yy;\n",
    "I = eye(size(D,1));\n",
    "sigmin = zeros(size(zz));\n",
    "for j=1:length(x1)\n",
    "    for i=1:length(y1)\n",
    "        sigmin(i,j) = min(svd(zz(i,j)*I - D));\n",
    "        end\n",
    "    end"
   ]
  },
  {
   "cell_type": "code",
   "execution_count": 11,
   "metadata": {
    "collapsed": false
   },
   "outputs": [
    {
     "data": {
      "image/png": "[encoded data removed]",
      "text/plain": [
       "<IPython.core.display.Image object>"
      ]
     },
     "metadata": {},
     "output_type": "display_data"
    },
    {
     "data": {},
     "execution_count": 11,
     "metadata": {},
     "output_type": "execute_result"
    }
   ],
   "source": [
    "plot(real(Lam),imag(Lam),'r.')\n",
    "hold on\n",
    "contour(xx,yy,sigmin,[1e-2,1e-3,1e-4],'b')\n",
    "contour(xx,yy,sigmin,[1e-5,1e-6,1e-7],'k')\n",
    "contour(xx,yy,sigmin,[1e-8,1e-10,1e-12],'g')\n",
    "axis([-40,0,-50,50])\n",
    "axis square"
   ]
  },
  {
   "cell_type": "markdown",
   "metadata": {},
   "source": [
    "Note that in this case there are additional eigenvalues not show with magnitude $|\\lambda| \\approx 86$, but that these eigenvalues, like the ones shown that are away from the central curve, are well-conditioned and have small pseudospectral balls around them.  \n",
    "\n",
    "The main things to notice in these figures are:\n",
    "- The eigenvalues and pseudospectra lie in the left half plane,\n",
    "- The pseudospectra include vertical lines near the origin.  As the grid is refined, a larger region near the origin is covered by these vertical contours.\n",
    "\n",
    "The latter obervation suggests that the pseudospectrum of the differential operator we are approximating, $\\partial_x$ on $[-1,1]$ with $u(1)=0$, might have this behavior everywhere in the left half plane.  Indeed it does.\n",
    "\n",
    "Note that this differential operator has no eigenvalues.  The functions $e^{zx}$ are no longer eigenfunctions because they do not satisfy the boundary condition.  However, if $Re(z) < 0$ then these decay as $x$ increases and if they decay fast enough then $u(1)$ is nearly 0 relative to $u(-1)$.  This suggests with $Re(z)$ very negative these are pseudo-eigenfunctions for very small values of $\\epsilon$.   Since the decay rate depends only on the real part, this further suggests that the pseudospectra should be regions of the left halfplane bounded by vertical lines.  See Chapters 5 and 30 of Trefethen and Embree's *Spectral and Pseudospectra* for more details."
   ]
  },
  {
   "cell_type": "code",
   "execution_count": null,
   "metadata": {
    "collapsed": true
   },
   "outputs": [],
   "source": []
  }
 ],
 "metadata": {
  "kernelspec": {
   "display_name": "Matlab",
   "language": "matlab",
   "name": "matlab_kernel"
  },
  "language_info": {
   "file_extension": ".m",
   "help_links": [
    {
     "text": "MetaKernel Magics",
     "url": "https://github.com/calysto/metakernel/blob/master/metakernel/magics/README.md"
    }
   ],
   "mimetype": "text/x-matlab",
   "name": "octave"
  }
 },
 "nbformat": 4,
 "nbformat_minor": 0
}
