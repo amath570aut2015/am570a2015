{
 "cells": [
  {
   "cell_type": "markdown",
   "metadata": {
    "run_control": {
     "marked": false
    }
   },
   "source": [
    "# Chebyshev spectral methods for advection using Chebfun"
   ]
  },
  {
   "cell_type": "markdown",
   "metadata": {
    "run_control": {
     "marked": false
    }
   },
   "source": [
    "Solve the advection equation $u_t=u_x$ on $-1\\leq x \\leq 1$ with $u(1,t) = g(t)$ using the Chebyshev Spectral method to discretize in space and forward Euler in time.  \n",
    "\n",
    "Running this notebook requires Jupyter notebooks with the [matlab_kernel](https://pypi.python.org/pypi/matlab_kernel) installed, Matlab, and the Matlab package [chebfun](http://www.chebfun.org/).\n",
    "\n",
    "Developed by Randy LeVeque for a course on Approximation Theory and Spectral Methods at the University of Washington. See <http://faculty.washington.edu/rjl/classes/am570a2015/codes.html> for more IPython Notebook examples."
   ]
  },
  {
   "cell_type": "code",
   "execution_count": 1,
   "metadata": {
    "collapsed": false,
    "run_control": {
     "marked": false
    }
   },
   "outputs": [
    {
     "data": {},
     "execution_count": 1,
     "metadata": {},
     "output_type": "execute_result"
    }
   ],
   "source": [
    "path(path,'/Users/rjl/git/chebfun')   # modify this for your local system"
   ]
  },
  {
   "cell_type": "markdown",
   "metadata": {
    "run_control": {
     "marked": false
    }
   },
   "source": [
    "### Define the discrete differentiation operator with a boundary condition\n",
    "\n",
    "Now consider the differential operator $\\partial_x$ on $[-1,1]$ with the boundary condition $u(1) = 0$. "
   ]
  },
  {
   "cell_type": "code",
   "execution_count": 6,
   "metadata": {
    "collapsed": false,
    "run_control": {
     "marked": false
    }
   },
   "outputs": [
    {
     "data": {},
     "execution_count": 6,
     "metadata": {},
     "output_type": "execute_result"
    }
   ],
   "source": [
    "N = 50;\n",
    "Dop = chebop(@(u) diff(u));\n",
    "D = matrix(Dop,N, 'oldschool');\n",
    "D = D(1:N-1, 1:N-1); % part of matrix to use for homogeneous BC"
   ]
  },
  {
   "cell_type": "markdown",
   "metadata": {
    "run_control": {
     "marked": false
    }
   },
   "source": [
    "Let $U =[U_0,~U_1,~\\ldots,~U_{N-1}]^T$ be the vector of values at $x_j = -\\cos(\\pi j/N)$ for $j=0,~1,~\\ldots,~N-1$, i.e. not including the right boundary where we the value will be determined by the boundary condition.  \n",
    "\n",
    "Note that the matrix $D$ defined above maps values $U$ to approximations to $u'(x_j)$ at these same set of points, assuming that $U_N=0$.  \n",
    "\n",
    "To solve the advection equation with $g(t) \\equiv 0$, we can use this operator to obtain the semi-discrete ODE $U'(t) = DU(t)$. "
   ]
  },
  {
   "cell_type": "markdown",
   "metadata": {
    "run_control": {
     "marked": false
    }
   },
   "source": [
    "## Initial conditions and true solution:\n",
    "\n",
    "Use Gaussian initial conditions $u(x,0) = \\exp(-50 (x-0.5)^2)$.  Note that in general the solution is $u(x,t) = u(x+t,0)$, so define the true solution:"
   ]
  },
  {
   "cell_type": "code",
   "execution_count": 7,
   "metadata": {
    "collapsed": false
   },
   "outputs": [
    {
     "data": {},
     "execution_count": 7,
     "metadata": {},
     "output_type": "execute_result"
    }
   ],
   "source": [
    "utrue_func = @(x,t) exp(-50*(x+t-0.5).^2);"
   ]
  },
  {
   "cell_type": "code",
   "execution_count": 8,
   "metadata": {
    "collapsed": false,
    "run_control": {
     "marked": false
    }
   },
   "outputs": [
    {
     "data": {
      "image/png": "[encoded data removed]",
      "text/plain": [
       "<IPython.core.display.Image object>"
      ]
     },
     "metadata": {},
     "output_type": "display_data"
    },
    {
     "data": {},
     "execution_count": 8,
     "metadata": {},
     "output_type": "execute_result"
    }
   ],
   "source": [
    "x_all = chebpts(N);     % note that this returns points ordered from -1 to 1\n",
    "x = x_all(1:N-1);    % interior points, other than right boundary\n",
    "\n",
    "u = utrue_func(x,0.);\n",
    "u_all = [u; 0];   % append boundary value for plotting\n",
    "plot(x_all,u_all,'r-o');\n",
    "\n",
    "hold on\n",
    "xfine = linspace(-1,1,1000);\n",
    "ufine = utrue_func(xfine, 0.);\n",
    "plot(xfine,ufine,'b')"
   ]
  },
  {
   "cell_type": "markdown",
   "metadata": {
    "run_control": {
     "marked": false
    }
   },
   "source": [
    "## Time-stepping loop:\n",
    "\n",
    "This is a simple example using Forward Euler time-stepping.\n"
   ]
  },
  {
   "cell_type": "code",
   "execution_count": 9,
   "metadata": {
    "collapsed": false,
    "run_control": {
     "marked": false
    }
   },
   "outputs": [
    {
     "data": {
      "image/png": "[encoded data removed]",
      "text/plain": [
       "<IPython.core.display.Image object>"
      ]
     },
     "metadata": {},
     "output_type": "display_data"
    },
    {
     "data": {},
     "execution_count": 9,
     "metadata": {},
     "output_type": "execute_result"
    }
   ],
   "source": [
    "u = utrue_func(x,0.);\n",
    "\n",
    "tfinal = 1.;\n",
    "nmax = 0.5*N^2;\n",
    "dt = tfinal/nmax;\n",
    "\n",
    "for n=1:nmax\n",
    "    u = u + dt*D*u;\n",
    "    end\n",
    "\n",
    "u_all = [u; 0];   % append boundary value for plotting\n",
    "plot(x_all,u_all,'r-o');\n",
    "\n",
    "hold on\n",
    "xfine = linspace(-1,1,1000);\n",
    "ufine = utrue_func(xfine, tfinal);\n",
    "plot(xfine,ufine,'b')"
   ]
  },
  {
   "cell_type": "markdown",
   "metadata": {
    "run_control": {
     "marked": false
    }
   },
   "source": [
    "Compute the maximum error at the gridpoints. "
   ]
  },
  {
   "cell_type": "code",
   "execution_count": 10,
   "metadata": {
    "collapsed": false,
    "run_control": {
     "marked": false
    }
   },
   "outputs": [
    {
     "data": {
      "text/plain": [
       "ans =\n",
       "   0.040205874468365"
      ]
     },
     "execution_count": 10,
     "metadata": {},
     "output_type": "execute_result"
    }
   ],
   "source": [
    "utrue = utrue_func(x,tfinal);\n",
    "norm(u-utrue,inf)"
   ]
  },
  {
   "cell_type": "markdown",
   "metadata": {
    "run_control": {
     "marked": false
    }
   },
   "source": [
    "Alternatively we can interpolate with a polynomial and compute the max-norm of the error in this function:"
   ]
  },
  {
   "cell_type": "code",
   "execution_count": 11,
   "metadata": {
    "collapsed": false,
    "run_control": {
     "marked": false
    }
   },
   "outputs": [
    {
     "data": {
      "image/png": "[encoded data removed]",
      "text/plain": [
       "<IPython.core.display.Image object>"
      ]
     },
     "metadata": {},
     "output_type": "display_data"
    },
    {
     "data": {
      "text/plain": [
       "max_error =\n",
       "   0.042563102066736"
      ]
     },
     "execution_count": 11,
     "metadata": {},
     "output_type": "execute_result"
    }
   ],
   "source": [
    "pn = chebfun(u_all);\n",
    "phat = chebfun(@(x) utrue_func(x,tfinal));\n",
    "max_error = norm(pn-phat,inf)\n",
    "plot(phat,'b')\n",
    "hold on \n",
    "plot(pn,'r')"
   ]
  },
  {
   "cell_type": "markdown",
   "metadata": {
    "run_control": {
     "marked": false
    }
   },
   "source": [
    "## Convergence\n",
    "\n",
    "Try changing N or nmax in the cells above and re-executing everything to see the effect of changing the resolution or time step.  You should find that the error goes to zero like ${\\cal O}(1/N^2)$ as $N \\rightarrow \\infty$.  \n",
    "\n",
    "Note that the spatial approximation to the deriviative should be (nearly) spectrally accurate for this (nearly) analytic initial data. (Note that $u(x,t)$ is actually not analytic because it should be identically 0 for $x+t \\geq 1$ due to the boundary condition imposed so it has a very small discontinuity at this point, but this is around $10^{-8}$ for the Gaussian used here.)\n",
    "\n",
    "The reason the PDE solution is only  ${\\cal O}(1/N^2)$ accurate is that we are using the first-order accurate forward Euler method for the time stepping.  It is first order accurate in $\\Delta t$, which has been set to $0.5 / N^2$ above.  This has been chosen for stability reasons.  One could get a more accurate solution by using a smaller $\\Delta t$, or preferably by using a higher-order ODE method. \n",
    "\n",
    " \n"
   ]
  },
  {
   "cell_type": "markdown",
   "metadata": {
    "run_control": {
     "marked": false
    }
   },
   "source": [
    "## Stability\n",
    "\n",
    "Recall that the upwind finite difference method is stable for $\\Delta t \\leq \\Delta x$, so on a uniform grid with $N$ points in $[-1,1]$ this would allow $\\Delta t \\leq 2/N$.  But the Chebyshev grid spacing is smaller near the boundaries with $x_1 - x_0 = {\\cal O}(1/N^2)$ and so the CFL condition would require that $\\Delta t = {\\cal O}(1/N^2)$ for an upwind finite difference method on this grid. \n",
    "\n",
    "The Chebyshev method has a much wider stencil than upwind -- it includes every point on the grid, and so the CFL condition doesn't given any guidance as to the stability restriction for the spectral method.  \n",
    "\n",
    "But examining the spectra and pseudospectra of the $D$ matrix used for the spectral method shows that the maximum eigenvalue grows like $\\max |\\lambda| = {\\cal O}(1/N^2)$.\n",
    "\n",
    "Below we plot the eigenvalues of $\\Delta t D$ along with the stability region for forward Euler and zoom in near the origin.  If the time step is small enough, the points should lie inside the circle."
   ]
  },
  {
   "cell_type": "code",
   "execution_count": 12,
   "metadata": {
    "collapsed": false,
    "run_control": {
     "marked": false
    }
   },
   "outputs": [
    {
     "data": {
      "image/png": "[encoded data removed]",
      "text/plain": [
       "<IPython.core.display.Image object>"
      ]
     },
     "metadata": {},
     "output_type": "display_data"
    },
    {
     "data": {},
     "execution_count": 12,
     "metadata": {},
     "output_type": "execute_result"
    }
   ],
   "source": [
    "[V,Lam] = eig(D);\n",
    "Lam = diag(Lam);\n",
    "Lmax = max(real(Lam));\n",
    "plot(real(Lam*dt), imag(Lam*dt),'r.')\n",
    "eitheta = exp(1i*linspace(0,2*pi,1000));\n",
    "hold on\n",
    "plot(eitheta-1,'k')\n",
    "axis 'equal'\n",
    "xylim = dt*Lmax + 0.2;\n",
    "axis([-xylim,0.1,-xylim,xylim])"
   ]
  },
  {
   "cell_type": "markdown",
   "metadata": {
    "run_control": {
     "marked": false
    }
   },
   "source": [
    "### Pseudospectra\n",
    "\n",
    "Since the matrix D is highly non-normal, we should also check that the $\\lambda \\Delta t$ lies in the stability region for $\\lambda$ in the pseudospectrum of $D$ for small $\\epsilon$..."
   ]
  },
  {
   "cell_type": "code",
   "execution_count": 13,
   "metadata": {
    "collapsed": false,
    "run_control": {
     "marked": false
    }
   },
   "outputs": [
    {
     "data": {
      "image/png": "[encoded data removed]",
      "text/plain": [
       "<IPython.core.display.Image object>"
      ]
     },
     "metadata": {},
     "output_type": "display_data"
    },
    {
     "data": {},
     "execution_count": 13,
     "metadata": {},
     "output_type": "execute_result"
    }
   ],
   "source": [
    "x1 = linspace(-.05,.05,100);\n",
    "y1 = linspace(-.2,.2,200);\n",
    "[xx,yy] = meshgrid(x1,y1);\n",
    "zz = xx + 1i*yy;\n",
    "I = eye(size(D,1));\n",
    "sigmin = zeros(size(zz));\n",
    "for j=1:length(x1)\n",
    "    for i=1:length(y1)\n",
    "        sigmin(i,j) = min(svd(zz(i,j)*I - dt*D));\n",
    "        end\n",
    "    end\n",
    "\n",
    "plot(real(Lam*dt), imag(Lam*dt),'r.')\n",
    "hold on\n",
    "plot(eitheta-1,'k')\n",
    "%axis 'equal'\n",
    "\n",
    "axis([-.05,.05,-.2,.2])\n",
    "contour(xx,yy,sigmin,[1e-2,1e-3,1e-4],'b')\n",
    "contour(xx,yy,sigmin,[1e-5,1e-6,1e-7],'k')\n",
    "contour(xx,yy,sigmin,[1e-8,1e-9,1e-10],'g')"
   ]
  },
  {
   "cell_type": "markdown",
   "metadata": {
    "collapsed": false,
    "run_control": {
     "marked": false
    }
   },
   "source": [
    "Note that the pseudospectra for $\\epsilon = 10^{-2}, 10^{-3}$ extend outside the region of absolute stability, but the important thing is that as $\\epsilon \\rightarrow 0$ the pseudospectra are within $O(\\epsilon)$ of the region, and indeed they are inside for sufficiently small $\\epsilon$.  \n",
    "\n",
    "See the notebook [Dx_Pseudospectra.ipynb](Dx_Pseudospectra.ipynb) for more the pseudospectra of this operator."
   ]
  },
  {
   "cell_type": "markdown",
   "metadata": {},
   "source": [
    "## Nonhomogenous boundary conditions\n",
    "\n",
    "Now consider the problem $u_t = u_x$ on $[-1,1]$ with $u(1,t) = g(t)$, some nonzero function.\n",
    "Then the vector of unknowns is still the same $U$ as above, but to compute the approximation to $u'(x_j)$ at each point we need to include a contribution from the value $U_N$. \n",
    "\n",
    "The product $DU$ is missing this term, but it can be restored using the vector $d$ defined below, the first $N-1$ entries of the original full differentiation matrix to obtain the linear ODE $U'(t) = DU(t) + b(t)$ where $b(t) = g(t)d$ is a vector of length $N-1$."
   ]
  },
  {
   "cell_type": "code",
   "execution_count": 14,
   "metadata": {
    "collapsed": false
   },
   "outputs": [
    {
     "data": {},
     "execution_count": 14,
     "metadata": {},
     "output_type": "execute_result"
    }
   ],
   "source": [
    "N = 50;\n",
    "Dop = chebop(@(u) diff(u));\n",
    "D = matrix(Dop,N, 'oldschool');\n",
    "\n",
    "d = D(1:N-1, N);     % part of last column needed for nonzero BCs\n",
    "D = D(1:N-1, 1:N-1); % part of matrix to use for homogeneous BC"
   ]
  },
  {
   "cell_type": "markdown",
   "metadata": {},
   "source": [
    "We test this using the exact solution $u(x,t) = \\sin(5(x+t))$ for which $g(t) = \\sin(5(1+t))$:"
   ]
  },
  {
   "cell_type": "code",
   "execution_count": 15,
   "metadata": {
    "collapsed": false
   },
   "outputs": [
    {
     "data": {
      "image/png": "[encoded data removed]",
      "text/plain": [
       "<IPython.core.display.Image object>"
      ]
     },
     "metadata": {},
     "output_type": "display_data"
    },
    {
     "data": {},
     "execution_count": 15,
     "metadata": {},
     "output_type": "execute_result"
    }
   ],
   "source": [
    "utrue_func = @(x,t) sin(5*(x+t-0.5));\n",
    "g_func = @(t) utrue_func(1,t);\n",
    "\n",
    "x_all = chebpts(N);     % note that this returns points ordered from -1 to 1\n",
    "x = x_all(1:N-1);    % interior points, other than right boundary\n",
    "\n",
    "u = utrue_func(x,0.);\n",
    "u_all = [u; g_func(0)];   % append boundary value for plotting\n",
    "plot(x_all,u_all,'r-o');\n",
    "\n",
    "hold on\n",
    "xfine = linspace(-1,1,1000);\n",
    "ufine = utrue_func(xfine, 0.);\n",
    "plot(xfine,ufine,'b')"
   ]
  },
  {
   "cell_type": "code",
   "execution_count": 16,
   "metadata": {
    "collapsed": false
   },
   "outputs": [
    {
     "data": {
      "image/png": "[encoded data removed]",
      "text/plain": [
       "<IPython.core.display.Image object>"
      ]
     },
     "metadata": {},
     "output_type": "display_data"
    },
    {
     "data": {},
     "execution_count": 16,
     "metadata": {},
     "output_type": "execute_result"
    }
   ],
   "source": [
    "u = utrue_func(x,0.);\n",
    "\n",
    "tfinal = 1.;\n",
    "nmax = 0.5*N^2;\n",
    "dt = tfinal/nmax;\n",
    "\n",
    "for n=1:nmax\n",
    "    t1 = (n-1)*dt;\n",
    "    b = g_func(t1) * d;\n",
    "    u = u + dt*(D*u + b);\n",
    "    end\n",
    "\n",
    "u_all = [u; g_func(tfinal)];   % append boundary value for plotting\n",
    "plot(x_all,u_all,'r-o');\n",
    "\n",
    "hold on\n",
    "xfine = linspace(-1,1,1000);\n",
    "ufine = utrue_func(xfine, tfinal);\n",
    "plot(xfine,ufine,'b')"
   ]
  },
  {
   "cell_type": "code",
   "execution_count": 17,
   "metadata": {
    "collapsed": false
   },
   "outputs": [
    {
     "data": {
      "image/png": "[encoded data removed]",
      "text/plain": [
       "<IPython.core.display.Image object>"
      ]
     },
     "metadata": {},
     "output_type": "display_data"
    },
    {
     "data": {
      "text/plain": [
       "max_error =\n",
       "   0.010062084437466"
      ]
     },
     "execution_count": 17,
     "metadata": {},
     "output_type": "execute_result"
    }
   ],
   "source": [
    "pn = chebfun(u_all);\n",
    "phat = chebfun(@(x) utrue_func(x,tfinal));\n",
    "max_error = norm(pn-phat,inf)\n",
    "plot(phat,'b')\n",
    "hold on \n",
    "plot(pn,'r')"
   ]
  },
  {
   "cell_type": "markdown",
   "metadata": {},
   "source": [
    "The error is smaller than with the Gaussian because the function is smoother."
   ]
  }
 ],
 "metadata": {
  "kernelspec": {
   "display_name": "Matlab",
   "language": "matlab",
   "name": "matlab_kernel"
  },
  "language_info": {
   "file_extension": ".m",
   "help_links": [
    {
     "text": "MetaKernel Magics",
     "url": "https://github.com/calysto/metakernel/blob/master/metakernel/magics/README.md"
    }
   ],
   "mimetype": "text/x-matlab",
   "name": "octave"
  }
 },
 "nbformat": 4,
 "nbformat_minor": 0
}
